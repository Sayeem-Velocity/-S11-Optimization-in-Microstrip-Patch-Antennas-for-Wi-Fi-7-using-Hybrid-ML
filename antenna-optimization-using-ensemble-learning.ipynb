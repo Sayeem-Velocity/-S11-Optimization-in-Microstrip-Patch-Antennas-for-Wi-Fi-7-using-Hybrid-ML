{
 "cells": [
  {
   "cell_type": "markdown",
   "id": "221a2253",
   "metadata": {
    "papermill": {
     "duration": 0.007033,
     "end_time": "2025-02-15T09:19:45.662872",
     "exception": false,
     "start_time": "2025-02-15T09:19:45.655839",
     "status": "completed"
    },
    "tags": []
   },
   "source": [
    "# Library Definition and Initialization"
   ]
  },
  {
   "cell_type": "code",
   "execution_count": 1,
   "id": "bfe30b81",
   "metadata": {
    "execution": {
     "iopub.execute_input": "2025-02-15T09:19:45.677190Z",
     "iopub.status.busy": "2025-02-15T09:19:45.676866Z",
     "iopub.status.idle": "2025-02-15T09:19:48.499919Z",
     "shell.execute_reply": "2025-02-15T09:19:48.499058Z"
    },
    "papermill": {
     "duration": 2.831796,
     "end_time": "2025-02-15T09:19:48.501896",
     "exception": false,
     "start_time": "2025-02-15T09:19:45.670100",
     "status": "completed"
    },
    "tags": []
   },
   "outputs": [],
   "source": [
    "import pandas as pd\n",
    "import numpy as np\n",
    "import seaborn as sns\n",
    "import matplotlib.pyplot as plt\n",
    "from sklearn.preprocessing import StandardScaler\n",
    "from sklearn.model_selection import train_test_split\n",
    "from sklearn.linear_model import LinearRegression\n",
    "from sklearn.linear_model import LogisticRegression"
   ]
  },
  {
   "cell_type": "code",
   "execution_count": 2,
   "id": "13eb1009",
   "metadata": {
    "execution": {
     "iopub.execute_input": "2025-02-15T09:19:48.515449Z",
     "iopub.status.busy": "2025-02-15T09:19:48.514978Z",
     "iopub.status.idle": "2025-02-15T09:19:48.555936Z",
     "shell.execute_reply": "2025-02-15T09:19:48.554894Z"
    },
    "papermill": {
     "duration": 0.049403,
     "end_time": "2025-02-15T09:19:48.557617",
     "exception": false,
     "start_time": "2025-02-15T09:19:48.508214",
     "status": "completed"
    },
    "tags": []
   },
   "outputs": [
    {
     "data": {
      "text/html": [
       "<div>\n",
       "<style scoped>\n",
       "    .dataframe tbody tr th:only-of-type {\n",
       "        vertical-align: middle;\n",
       "    }\n",
       "\n",
       "    .dataframe tbody tr th {\n",
       "        vertical-align: top;\n",
       "    }\n",
       "\n",
       "    .dataframe thead th {\n",
       "        text-align: right;\n",
       "    }\n",
       "</style>\n",
       "<table border=\"1\" class=\"dataframe\">\n",
       "  <thead>\n",
       "    <tr style=\"text-align: right;\">\n",
       "      <th></th>\n",
       "      <th>Freq(GHz)</th>\n",
       "      <th>length of patch in mm</th>\n",
       "      <th>width of patch in mm</th>\n",
       "      <th>Slot length in mm</th>\n",
       "      <th>slot width in mm</th>\n",
       "      <th>s11(dB)</th>\n",
       "    </tr>\n",
       "  </thead>\n",
       "  <tbody>\n",
       "    <tr>\n",
       "      <th>0</th>\n",
       "      <td>1.500000</td>\n",
       "      <td>33.0</td>\n",
       "      <td>33</td>\n",
       "      <td>0.0</td>\n",
       "      <td>0</td>\n",
       "      <td>-4.927274</td>\n",
       "    </tr>\n",
       "    <tr>\n",
       "      <th>1</th>\n",
       "      <td>1.551724</td>\n",
       "      <td>33.0</td>\n",
       "      <td>33</td>\n",
       "      <td>0.0</td>\n",
       "      <td>0</td>\n",
       "      <td>-5.077877</td>\n",
       "    </tr>\n",
       "    <tr>\n",
       "      <th>2</th>\n",
       "      <td>1.603448</td>\n",
       "      <td>33.0</td>\n",
       "      <td>33</td>\n",
       "      <td>0.0</td>\n",
       "      <td>0</td>\n",
       "      <td>-5.183708</td>\n",
       "    </tr>\n",
       "    <tr>\n",
       "      <th>3</th>\n",
       "      <td>1.655172</td>\n",
       "      <td>33.0</td>\n",
       "      <td>33</td>\n",
       "      <td>0.0</td>\n",
       "      <td>0</td>\n",
       "      <td>-5.215997</td>\n",
       "    </tr>\n",
       "    <tr>\n",
       "      <th>4</th>\n",
       "      <td>1.706897</td>\n",
       "      <td>33.0</td>\n",
       "      <td>33</td>\n",
       "      <td>0.0</td>\n",
       "      <td>0</td>\n",
       "      <td>-5.120009</td>\n",
       "    </tr>\n",
       "  </tbody>\n",
       "</table>\n",
       "</div>"
      ],
      "text/plain": [
       "   Freq(GHz)  length of patch in mm  width of patch in mm  Slot length in mm  \\\n",
       "0   1.500000                   33.0                    33                0.0   \n",
       "1   1.551724                   33.0                    33                0.0   \n",
       "2   1.603448                   33.0                    33                0.0   \n",
       "3   1.655172                   33.0                    33                0.0   \n",
       "4   1.706897                   33.0                    33                0.0   \n",
       "\n",
       "   slot width in mm   s11(dB)  \n",
       "0                 0 -4.927274  \n",
       "1                 0 -5.077877  \n",
       "2                 0 -5.183708  \n",
       "3                 0 -5.215997  \n",
       "4                 0 -5.120009  "
      ]
     },
     "execution_count": 2,
     "metadata": {},
     "output_type": "execute_result"
    }
   ],
   "source": [
    "df = pd.read_csv('/kaggle/input/dataset-containing-antenna-parameters/dataset_antenna.csv')\n",
    "df.head()"
   ]
  },
  {
   "cell_type": "markdown",
   "id": "ca5b7d87",
   "metadata": {
    "papermill": {
     "duration": 0.005798,
     "end_time": "2025-02-15T09:19:48.570114",
     "exception": false,
     "start_time": "2025-02-15T09:19:48.564316",
     "status": "completed"
    },
    "tags": []
   },
   "source": [
    "# Exploratory Data Analysis"
   ]
  },
  {
   "cell_type": "code",
   "execution_count": 3,
   "id": "c688fc6d",
   "metadata": {
    "execution": {
     "iopub.execute_input": "2025-02-15T09:19:48.583134Z",
     "iopub.status.busy": "2025-02-15T09:19:48.582813Z",
     "iopub.status.idle": "2025-02-15T09:19:48.591392Z",
     "shell.execute_reply": "2025-02-15T09:19:48.590549Z"
    },
    "papermill": {
     "duration": 0.016897,
     "end_time": "2025-02-15T09:19:48.592918",
     "exception": false,
     "start_time": "2025-02-15T09:19:48.576021",
     "status": "completed"
    },
    "tags": []
   },
   "outputs": [
    {
     "data": {
      "text/plain": [
       "Freq(GHz)                0\n",
       "length of patch in mm    0\n",
       "width of patch in mm     0\n",
       "Slot length in mm        0\n",
       "slot width in mm         0\n",
       "s11(dB)                  0\n",
       "dtype: int64"
      ]
     },
     "execution_count": 3,
     "metadata": {},
     "output_type": "execute_result"
    }
   ],
   "source": [
    "df.isna().sum()"
   ]
  },
  {
   "cell_type": "code",
   "execution_count": 4,
   "id": "342034c7",
   "metadata": {
    "execution": {
     "iopub.execute_input": "2025-02-15T09:19:48.606183Z",
     "iopub.status.busy": "2025-02-15T09:19:48.605864Z",
     "iopub.status.idle": "2025-02-15T09:19:48.616996Z",
     "shell.execute_reply": "2025-02-15T09:19:48.616054Z"
    },
    "papermill": {
     "duration": 0.019486,
     "end_time": "2025-02-15T09:19:48.618513",
     "exception": false,
     "start_time": "2025-02-15T09:19:48.599027",
     "status": "completed"
    },
    "tags": []
   },
   "outputs": [
    {
     "data": {
      "text/plain": [
       "Freq(GHz)\n",
       "1.50    8\n",
       "3.00    8\n",
       "1.88    6\n",
       "1.89    6\n",
       "2.18    6\n",
       "       ..\n",
       "1.21    1\n",
       "1.22    1\n",
       "1.23    1\n",
       "1.24    1\n",
       "1.04    1\n",
       "Name: count, Length: 279, dtype: int64"
      ]
     },
     "execution_count": 4,
     "metadata": {},
     "output_type": "execute_result"
    }
   ],
   "source": [
    "df['Freq(GHz)'].value_counts()"
   ]
  },
  {
   "cell_type": "code",
   "execution_count": 5,
   "id": "c0f11559",
   "metadata": {
    "execution": {
     "iopub.execute_input": "2025-02-15T09:19:48.632028Z",
     "iopub.status.busy": "2025-02-15T09:19:48.631738Z",
     "iopub.status.idle": "2025-02-15T09:19:50.911802Z",
     "shell.execute_reply": "2025-02-15T09:19:50.909940Z"
    },
    "papermill": {
     "duration": 2.289038,
     "end_time": "2025-02-15T09:19:50.913788",
     "exception": false,
     "start_time": "2025-02-15T09:19:48.624750",
     "status": "completed"
    },
    "tags": []
   },
   "outputs": [
    {
     "data": {
      "text/plain": [
       "<Axes: ylabel='Freq(GHz)'>"
      ]
     },
     "execution_count": 5,
     "metadata": {},
     "output_type": "execute_result"
    },
    {
     "data": {
      "image/png": "[encoded data removed]",
      "text/plain": [
       "<Figure size 640x480 with 1 Axes>"
      ]
     },
     "metadata": {},
     "output_type": "display_data"
    }
   ],
   "source": [
    "df['Freq(GHz)'].value_counts().plot(kind = 'barh')"
   ]
  },
  {
   "cell_type": "code",
   "execution_count": 6,
   "id": "f746cb2f",
   "metadata": {
    "execution": {
     "iopub.execute_input": "2025-02-15T09:19:50.931986Z",
     "iopub.status.busy": "2025-02-15T09:19:50.931582Z",
     "iopub.status.idle": "2025-02-15T09:19:50.937608Z",
     "shell.execute_reply": "2025-02-15T09:19:50.936536Z"
    },
    "papermill": {
     "duration": 0.018183,
     "end_time": "2025-02-15T09:19:50.939392",
     "exception": false,
     "start_time": "2025-02-15T09:19:50.921209",
     "status": "completed"
    },
    "tags": []
   },
   "outputs": [
    {
     "data": {
      "text/plain": [
       "Index(['Freq(GHz)', 'length of patch in mm', 'width of patch in mm',\n",
       "       'Slot length in mm', 'slot width in mm', 's11(dB)'],\n",
       "      dtype='object')"
      ]
     },
     "execution_count": 6,
     "metadata": {},
     "output_type": "execute_result"
    }
   ],
   "source": [
    "df.columns"
   ]
  },
  {
   "cell_type": "code",
   "execution_count": 7,
   "id": "e1bc45f9",
   "metadata": {
    "execution": {
     "iopub.execute_input": "2025-02-15T09:19:50.956988Z",
     "iopub.status.busy": "2025-02-15T09:19:50.956512Z",
     "iopub.status.idle": "2025-02-15T09:19:50.962341Z",
     "shell.execute_reply": "2025-02-15T09:19:50.961309Z"
    },
    "papermill": {
     "duration": 0.016086,
     "end_time": "2025-02-15T09:19:50.963979",
     "exception": false,
     "start_time": "2025-02-15T09:19:50.947893",
     "status": "completed"
    },
    "tags": []
   },
   "outputs": [
    {
     "data": {
      "text/plain": [
       "(1266, 6)"
      ]
     },
     "execution_count": 7,
     "metadata": {},
     "output_type": "execute_result"
    }
   ],
   "source": [
    "df.shape"
   ]
  },
  {
   "cell_type": "code",
   "execution_count": 8,
   "id": "fdf341ef",
   "metadata": {
    "execution": {
     "iopub.execute_input": "2025-02-15T09:19:50.981061Z",
     "iopub.status.busy": "2025-02-15T09:19:50.980720Z",
     "iopub.status.idle": "2025-02-15T09:19:51.001172Z",
     "shell.execute_reply": "2025-02-15T09:19:51.000109Z"
    },
    "papermill": {
     "duration": 0.030077,
     "end_time": "2025-02-15T09:19:51.002734",
     "exception": false,
     "start_time": "2025-02-15T09:19:50.972657",
     "status": "completed"
    },
    "tags": []
   },
   "outputs": [
    {
     "name": "stdout",
     "output_type": "stream",
     "text": [
      "<class 'pandas.core.frame.DataFrame'>\n",
      "RangeIndex: 1266 entries, 0 to 1265\n",
      "Data columns (total 6 columns):\n",
      " #   Column                 Non-Null Count  Dtype  \n",
      "---  ------                 --------------  -----  \n",
      " 0   Freq(GHz)              1266 non-null   float64\n",
      " 1   length of patch in mm  1266 non-null   float64\n",
      " 2   width of patch in mm   1266 non-null   int64  \n",
      " 3   Slot length in mm      1266 non-null   float64\n",
      " 4   slot width in mm       1266 non-null   int64  \n",
      " 5   s11(dB)                1266 non-null   float64\n",
      "dtypes: float64(4), int64(2)\n",
      "memory usage: 59.5 KB\n"
     ]
    }
   ],
   "source": [
    "df.info()"
   ]
  },
  {
   "cell_type": "code",
   "execution_count": 9,
   "id": "22bf44f4",
   "metadata": {
    "execution": {
     "iopub.execute_input": "2025-02-15T09:19:51.018395Z",
     "iopub.status.busy": "2025-02-15T09:19:51.018092Z",
     "iopub.status.idle": "2025-02-15T09:19:51.041308Z",
     "shell.execute_reply": "2025-02-15T09:19:51.040348Z"
    },
    "papermill": {
     "duration": 0.03282,
     "end_time": "2025-02-15T09:19:51.042896",
     "exception": false,
     "start_time": "2025-02-15T09:19:51.010076",
     "status": "completed"
    },
    "tags": []
   },
   "outputs": [
    {
     "data": {
      "text/html": [
       "<div>\n",
       "<style scoped>\n",
       "    .dataframe tbody tr th:only-of-type {\n",
       "        vertical-align: middle;\n",
       "    }\n",
       "\n",
       "    .dataframe tbody tr th {\n",
       "        vertical-align: top;\n",
       "    }\n",
       "\n",
       "    .dataframe thead th {\n",
       "        text-align: right;\n",
       "    }\n",
       "</style>\n",
       "<table border=\"1\" class=\"dataframe\">\n",
       "  <thead>\n",
       "    <tr style=\"text-align: right;\">\n",
       "      <th></th>\n",
       "      <th>Freq(GHz)</th>\n",
       "      <th>length of patch in mm</th>\n",
       "      <th>width of patch in mm</th>\n",
       "      <th>Slot length in mm</th>\n",
       "      <th>slot width in mm</th>\n",
       "      <th>s11(dB)</th>\n",
       "    </tr>\n",
       "  </thead>\n",
       "  <tbody>\n",
       "    <tr>\n",
       "      <th>count</th>\n",
       "      <td>1266.000000</td>\n",
       "      <td>1266.000000</td>\n",
       "      <td>1266.000000</td>\n",
       "      <td>1266.000000</td>\n",
       "      <td>1266.000000</td>\n",
       "      <td>1266.000000</td>\n",
       "    </tr>\n",
       "    <tr>\n",
       "      <th>mean</th>\n",
       "      <td>2.408768</td>\n",
       "      <td>39.636730</td>\n",
       "      <td>50.440758</td>\n",
       "      <td>19.399289</td>\n",
       "      <td>26.857820</td>\n",
       "      <td>-1.718475</td>\n",
       "    </tr>\n",
       "    <tr>\n",
       "      <th>std</th>\n",
       "      <td>0.604011</td>\n",
       "      <td>20.702096</td>\n",
       "      <td>34.846882</td>\n",
       "      <td>11.019903</td>\n",
       "      <td>16.369894</td>\n",
       "      <td>3.042243</td>\n",
       "    </tr>\n",
       "    <tr>\n",
       "      <th>min</th>\n",
       "      <td>1.000000</td>\n",
       "      <td>29.400000</td>\n",
       "      <td>26.000000</td>\n",
       "      <td>0.000000</td>\n",
       "      <td>0.000000</td>\n",
       "      <td>-34.533968</td>\n",
       "    </tr>\n",
       "    <tr>\n",
       "      <th>25%</th>\n",
       "      <td>1.910000</td>\n",
       "      <td>29.400000</td>\n",
       "      <td>38.000000</td>\n",
       "      <td>14.000000</td>\n",
       "      <td>24.000000</td>\n",
       "      <td>-1.387842</td>\n",
       "    </tr>\n",
       "    <tr>\n",
       "      <th>50%</th>\n",
       "      <td>2.410000</td>\n",
       "      <td>29.400000</td>\n",
       "      <td>38.000000</td>\n",
       "      <td>19.750000</td>\n",
       "      <td>24.000000</td>\n",
       "      <td>-0.744253</td>\n",
       "    </tr>\n",
       "    <tr>\n",
       "      <th>75%</th>\n",
       "      <td>2.900000</td>\n",
       "      <td>35.500000</td>\n",
       "      <td>38.000000</td>\n",
       "      <td>20.000000</td>\n",
       "      <td>28.000000</td>\n",
       "      <td>-0.596102</td>\n",
       "    </tr>\n",
       "    <tr>\n",
       "      <th>max</th>\n",
       "      <td>3.500000</td>\n",
       "      <td>87.000000</td>\n",
       "      <td>130.000000</td>\n",
       "      <td>85.000000</td>\n",
       "      <td>115.000000</td>\n",
       "      <td>-0.159236</td>\n",
       "    </tr>\n",
       "  </tbody>\n",
       "</table>\n",
       "</div>"
      ],
      "text/plain": [
       "         Freq(GHz)  length of patch in mm  width of patch in mm  \\\n",
       "count  1266.000000            1266.000000           1266.000000   \n",
       "mean      2.408768              39.636730             50.440758   \n",
       "std       0.604011              20.702096             34.846882   \n",
       "min       1.000000              29.400000             26.000000   \n",
       "25%       1.910000              29.400000             38.000000   \n",
       "50%       2.410000              29.400000             38.000000   \n",
       "75%       2.900000              35.500000             38.000000   \n",
       "max       3.500000              87.000000            130.000000   \n",
       "\n",
       "       Slot length in mm  slot width in mm      s11(dB)  \n",
       "count        1266.000000       1266.000000  1266.000000  \n",
       "mean           19.399289         26.857820    -1.718475  \n",
       "std            11.019903         16.369894     3.042243  \n",
       "min             0.000000          0.000000   -34.533968  \n",
       "25%            14.000000         24.000000    -1.387842  \n",
       "50%            19.750000         24.000000    -0.744253  \n",
       "75%            20.000000         28.000000    -0.596102  \n",
       "max            85.000000        115.000000    -0.159236  "
      ]
     },
     "execution_count": 9,
     "metadata": {},
     "output_type": "execute_result"
    }
   ],
   "source": [
    "df.describe()"
   ]
  },
  {
   "cell_type": "code",
   "execution_count": 10,
   "id": "ea40dd7c",
   "metadata": {
    "execution": {
     "iopub.execute_input": "2025-02-15T09:19:51.059061Z",
     "iopub.status.busy": "2025-02-15T09:19:51.058698Z",
     "iopub.status.idle": "2025-02-15T09:19:51.065960Z",
     "shell.execute_reply": "2025-02-15T09:19:51.065120Z"
    },
    "papermill": {
     "duration": 0.017019,
     "end_time": "2025-02-15T09:19:51.067455",
     "exception": false,
     "start_time": "2025-02-15T09:19:51.050436",
     "status": "completed"
    },
    "tags": []
   },
   "outputs": [
    {
     "data": {
      "text/plain": [
       "0"
      ]
     },
     "execution_count": 10,
     "metadata": {},
     "output_type": "execute_result"
    }
   ],
   "source": [
    "df.duplicated().sum()"
   ]
  },
  {
   "cell_type": "code",
   "execution_count": 11,
   "id": "f597acd5",
   "metadata": {
    "execution": {
     "iopub.execute_input": "2025-02-15T09:19:51.083849Z",
     "iopub.status.busy": "2025-02-15T09:19:51.083521Z",
     "iopub.status.idle": "2025-02-15T09:19:51.094197Z",
     "shell.execute_reply": "2025-02-15T09:19:51.093261Z"
    },
    "papermill": {
     "duration": 0.020211,
     "end_time": "2025-02-15T09:19:51.095654",
     "exception": false,
     "start_time": "2025-02-15T09:19:51.075443",
     "status": "completed"
    },
    "tags": []
   },
   "outputs": [
    {
     "data": {
      "text/html": [
       "<div>\n",
       "<style scoped>\n",
       "    .dataframe tbody tr th:only-of-type {\n",
       "        vertical-align: middle;\n",
       "    }\n",
       "\n",
       "    .dataframe tbody tr th {\n",
       "        vertical-align: top;\n",
       "    }\n",
       "\n",
       "    .dataframe thead th {\n",
       "        text-align: right;\n",
       "    }\n",
       "</style>\n",
       "<table border=\"1\" class=\"dataframe\">\n",
       "  <thead>\n",
       "    <tr style=\"text-align: right;\">\n",
       "      <th></th>\n",
       "      <th>freq(ghz)</th>\n",
       "      <th>length of patch in mm</th>\n",
       "      <th>width of patch in mm</th>\n",
       "      <th>slot length in mm</th>\n",
       "      <th>slot width in mm</th>\n",
       "      <th>s11(db)</th>\n",
       "    </tr>\n",
       "  </thead>\n",
       "  <tbody>\n",
       "    <tr>\n",
       "      <th>0</th>\n",
       "      <td>1.500000</td>\n",
       "      <td>33.0</td>\n",
       "      <td>33</td>\n",
       "      <td>0.0</td>\n",
       "      <td>0</td>\n",
       "      <td>-4.927274</td>\n",
       "    </tr>\n",
       "    <tr>\n",
       "      <th>1</th>\n",
       "      <td>1.551724</td>\n",
       "      <td>33.0</td>\n",
       "      <td>33</td>\n",
       "      <td>0.0</td>\n",
       "      <td>0</td>\n",
       "      <td>-5.077877</td>\n",
       "    </tr>\n",
       "    <tr>\n",
       "      <th>2</th>\n",
       "      <td>1.603448</td>\n",
       "      <td>33.0</td>\n",
       "      <td>33</td>\n",
       "      <td>0.0</td>\n",
       "      <td>0</td>\n",
       "      <td>-5.183708</td>\n",
       "    </tr>\n",
       "  </tbody>\n",
       "</table>\n",
       "</div>"
      ],
      "text/plain": [
       "   freq(ghz)  length of patch in mm  width of patch in mm  slot length in mm  \\\n",
       "0   1.500000                   33.0                    33                0.0   \n",
       "1   1.551724                   33.0                    33                0.0   \n",
       "2   1.603448                   33.0                    33                0.0   \n",
       "\n",
       "   slot width in mm   s11(db)  \n",
       "0                 0 -4.927274  \n",
       "1                 0 -5.077877  \n",
       "2                 0 -5.183708  "
      ]
     },
     "execution_count": 11,
     "metadata": {},
     "output_type": "execute_result"
    }
   ],
   "source": [
    "df.columns = df.columns.str.lower()\n",
    "df.head(3)"
   ]
  },
  {
   "cell_type": "code",
   "execution_count": 12,
   "id": "342dab4c",
   "metadata": {
    "execution": {
     "iopub.execute_input": "2025-02-15T09:19:51.112189Z",
     "iopub.status.busy": "2025-02-15T09:19:51.111849Z",
     "iopub.status.idle": "2025-02-15T09:19:51.117695Z",
     "shell.execute_reply": "2025-02-15T09:19:51.116454Z"
    },
    "papermill": {
     "duration": 0.015875,
     "end_time": "2025-02-15T09:19:51.119232",
     "exception": false,
     "start_time": "2025-02-15T09:19:51.103357",
     "status": "completed"
    },
    "tags": []
   },
   "outputs": [
    {
     "data": {
      "text/plain": [
       "Index(['freq(ghz)', 'length of patch in mm', 'width of patch in mm',\n",
       "       'slot length in mm', 'slot width in mm', 's11(db)'],\n",
       "      dtype='object')"
      ]
     },
     "execution_count": 12,
     "metadata": {},
     "output_type": "execute_result"
    }
   ],
   "source": [
    "df.columns"
   ]
  },
  {
   "cell_type": "markdown",
   "id": "8ea1511f",
   "metadata": {
    "papermill": {
     "duration": 0.007551,
     "end_time": "2025-02-15T09:19:51.134623",
     "exception": false,
     "start_time": "2025-02-15T09:19:51.127072",
     "status": "completed"
    },
    "tags": []
   },
   "source": [
    "# Visualization"
   ]
  },
  {
   "cell_type": "code",
   "execution_count": 13,
   "id": "958b1115",
   "metadata": {
    "execution": {
     "iopub.execute_input": "2025-02-15T09:19:51.151397Z",
     "iopub.status.busy": "2025-02-15T09:19:51.151058Z",
     "iopub.status.idle": "2025-02-15T09:19:51.486265Z",
     "shell.execute_reply": "2025-02-15T09:19:51.485291Z"
    },
    "papermill": {
     "duration": 0.345381,
     "end_time": "2025-02-15T09:19:51.487922",
     "exception": false,
     "start_time": "2025-02-15T09:19:51.142541",
     "status": "completed"
    },
    "tags": []
   },
   "outputs": [
    {
     "data": {
      "text/plain": [
       "<Axes: xlabel='width of patch in mm', ylabel='s11(db)'>"
      ]
     },
     "execution_count": 13,
     "metadata": {},
     "output_type": "execute_result"
    },
    {
     "data": {
      "image/png": "[encoded data removed]",
      "text/plain": [
       "<Figure size 600x600 with 1 Axes>"
      ]
     },
     "metadata": {},
     "output_type": "display_data"
    }
   ],
   "source": [
    "import matplotlib.pyplot as plt\n",
    "figure = plt.figure(figsize=(6,6))\n",
    "sns.regplot(data = df,\n",
    "           x = df['width of patch in mm'],\n",
    "           y = df['s11(db)'],\n",
    "           color = 'g', marker = 'x')"
   ]
  },
  {
   "cell_type": "code",
   "execution_count": 14,
   "id": "6fd33af1",
   "metadata": {
    "execution": {
     "iopub.execute_input": "2025-02-15T09:19:51.506857Z",
     "iopub.status.busy": "2025-02-15T09:19:51.506472Z",
     "iopub.status.idle": "2025-02-15T09:19:51.848419Z",
     "shell.execute_reply": "2025-02-15T09:19:51.847376Z"
    },
    "papermill": {
     "duration": 0.353214,
     "end_time": "2025-02-15T09:19:51.850041",
     "exception": false,
     "start_time": "2025-02-15T09:19:51.496827",
     "status": "completed"
    },
    "tags": []
   },
   "outputs": [
    {
     "data": {
      "image/png": "[encoded data removed]",
      "text/plain": [
       "<Figure size 800x600 with 2 Axes>"
      ]
     },
     "metadata": {},
     "output_type": "display_data"
    }
   ],
   "source": [
    "# Compute the correlation matrix\n",
    "correlation_matrix = df.corr()\n",
    "\n",
    "# Plot the heatmap\n",
    "plt.figure(figsize=(8,6))\n",
    "sns.heatmap(correlation_matrix, annot=True, cmap=\"coolwarm\", fmt=\".2f\", linewidths=0.5)\n",
    "\n",
    "plt.title(\"Correlation Matrix\")\n",
    "plt.show()"
   ]
  },
  {
   "cell_type": "code",
   "execution_count": 15,
   "id": "832f5392",
   "metadata": {
    "execution": {
     "iopub.execute_input": "2025-02-15T09:19:51.872037Z",
     "iopub.status.busy": "2025-02-15T09:19:51.871655Z",
     "iopub.status.idle": "2025-02-15T09:19:52.072282Z",
     "shell.execute_reply": "2025-02-15T09:19:52.071300Z"
    },
    "papermill": {
     "duration": 0.213557,
     "end_time": "2025-02-15T09:19:52.074165",
     "exception": false,
     "start_time": "2025-02-15T09:19:51.860608",
     "status": "completed"
    },
    "tags": []
   },
   "outputs": [
    {
     "data": {
      "image/png": "[encoded data removed]",
      "text/plain": [
       "<Figure size 600x600 with 1 Axes>"
      ]
     },
     "metadata": {},
     "output_type": "display_data"
    }
   ],
   "source": [
    "import matplotlib.pyplot as plt\n",
    "\n",
    "figure = plt.figure(figsize=(6,6))\n",
    "plt.scatter(df['width of patch in mm'], df['s11(db)'], color='r', marker='.')\n",
    "\n",
    "plt.xlabel(\"Width of patch (mm)\")\n",
    "plt.ylabel(\"S11 (dB)\")\n",
    "plt.title(\"Scatter Plot of Slot Width vs. S11\")\n",
    "\n",
    "plt.show()\n"
   ]
  },
  {
   "cell_type": "markdown",
   "id": "6e83c162",
   "metadata": {
    "papermill": {
     "duration": 0.010937,
     "end_time": "2025-02-15T09:19:52.096124",
     "exception": false,
     "start_time": "2025-02-15T09:19:52.085187",
     "status": "completed"
    },
    "tags": []
   },
   "source": [
    "# Data Split & Preprocessing"
   ]
  },
  {
   "cell_type": "code",
   "execution_count": 16,
   "id": "76a2976b",
   "metadata": {
    "execution": {
     "iopub.execute_input": "2025-02-15T09:19:52.118852Z",
     "iopub.status.busy": "2025-02-15T09:19:52.118438Z",
     "iopub.status.idle": "2025-02-15T09:19:52.123712Z",
     "shell.execute_reply": "2025-02-15T09:19:52.122705Z"
    },
    "papermill": {
     "duration": 0.018525,
     "end_time": "2025-02-15T09:19:52.125272",
     "exception": false,
     "start_time": "2025-02-15T09:19:52.106747",
     "status": "completed"
    },
    "tags": []
   },
   "outputs": [],
   "source": [
    "x = df.drop(['s11(db)'], axis=1)\n",
    "y = df['s11(db)']"
   ]
  },
  {
   "cell_type": "code",
   "execution_count": 17,
   "id": "4afbc65b",
   "metadata": {
    "execution": {
     "iopub.execute_input": "2025-02-15T09:19:52.147807Z",
     "iopub.status.busy": "2025-02-15T09:19:52.147412Z",
     "iopub.status.idle": "2025-02-15T09:19:52.155800Z",
     "shell.execute_reply": "2025-02-15T09:19:52.154707Z"
    },
    "papermill": {
     "duration": 0.021386,
     "end_time": "2025-02-15T09:19:52.157437",
     "exception": false,
     "start_time": "2025-02-15T09:19:52.136051",
     "status": "completed"
    },
    "tags": []
   },
   "outputs": [],
   "source": [
    "scaler = StandardScaler()\n",
    "scaled_features = scaler.fit_transform(x)\n",
    "X = scaled_features"
   ]
  },
  {
   "cell_type": "code",
   "execution_count": 18,
   "id": "10bf0706",
   "metadata": {
    "execution": {
     "iopub.execute_input": "2025-02-15T09:19:52.180313Z",
     "iopub.status.busy": "2025-02-15T09:19:52.179973Z",
     "iopub.status.idle": "2025-02-15T09:19:52.185837Z",
     "shell.execute_reply": "2025-02-15T09:19:52.184797Z"
    },
    "papermill": {
     "duration": 0.019111,
     "end_time": "2025-02-15T09:19:52.187454",
     "exception": false,
     "start_time": "2025-02-15T09:19:52.168343",
     "status": "completed"
    },
    "tags": []
   },
   "outputs": [],
   "source": [
    "# Train-test split\n",
    "X_train, X_test, y_train, y_test = train_test_split(X, y, test_size=0.2, random_state=42)"
   ]
  },
  {
   "cell_type": "code",
   "execution_count": 19,
   "id": "16c7182f",
   "metadata": {
    "execution": {
     "iopub.execute_input": "2025-02-15T09:19:52.210184Z",
     "iopub.status.busy": "2025-02-15T09:19:52.209818Z",
     "iopub.status.idle": "2025-02-15T09:19:52.213981Z",
     "shell.execute_reply": "2025-02-15T09:19:52.213027Z"
    },
    "papermill": {
     "duration": 0.017231,
     "end_time": "2025-02-15T09:19:52.215498",
     "exception": false,
     "start_time": "2025-02-15T09:19:52.198267",
     "status": "completed"
    },
    "tags": []
   },
   "outputs": [],
   "source": [
    "from sklearn.metrics import mean_absolute_error, mean_squared_error, r2_score"
   ]
  },
  {
   "cell_type": "markdown",
   "id": "3feeac97",
   "metadata": {
    "papermill": {
     "duration": 0.010193,
     "end_time": "2025-02-15T09:19:52.236300",
     "exception": false,
     "start_time": "2025-02-15T09:19:52.226107",
     "status": "completed"
    },
    "tags": []
   },
   "source": [
    "# Models"
   ]
  },
  {
   "cell_type": "code",
   "execution_count": 20,
   "id": "2b30f817",
   "metadata": {
    "execution": {
     "iopub.execute_input": "2025-02-15T09:19:52.258651Z",
     "iopub.status.busy": "2025-02-15T09:19:52.258259Z",
     "iopub.status.idle": "2025-02-15T09:19:52.789298Z",
     "shell.execute_reply": "2025-02-15T09:19:52.787920Z"
    },
    "papermill": {
     "duration": 0.544316,
     "end_time": "2025-02-15T09:19:52.791093",
     "exception": false,
     "start_time": "2025-02-15T09:19:52.246777",
     "status": "completed"
    },
    "tags": []
   },
   "outputs": [
    {
     "name": "stdout",
     "output_type": "stream",
     "text": [
      "Random Forest MAE: 0.12467089364519644\n",
      "Random Forest MSE: 0.21773809408092207\n",
      "Random Forest R²: 0.9750832550515379\n",
      "Mean Absolute Percentage Error (MAPE): 4.3903142394896495\n"
     ]
    }
   ],
   "source": [
    "from sklearn.ensemble import RandomForestRegressor\n",
    "\n",
    "# Random Forest Model\n",
    "rf_model = RandomForestRegressor(n_estimators=100, random_state=42)\n",
    "rf_model.fit(X_train, y_train)\n",
    "\n",
    "# Predictions\n",
    "y_pred = rf_model.predict(X_test)\n",
    "\n",
    "# Regression metrics\n",
    "mae = mean_absolute_error(y_test, y_pred)\n",
    "mse = mean_squared_error(y_test, y_pred)\n",
    "r2 = r2_score(y_test, y_pred)\n",
    "\n",
    "print('Random Forest MAE:', mae)\n",
    "print('Random Forest MSE:', mse)\n",
    "print('Random Forest R²:', r2)\n",
    "\n",
    "# Calculate Mean Absolute Percentage Error (MAPE)\n",
    "mape = np.mean(np.abs((y_test - y_pred) / y_test)) * 100\n",
    "\n",
    "# Print the MAPE value\n",
    "print(\"Mean Absolute Percentage Error (MAPE):\", mape)"
   ]
  },
  {
   "cell_type": "code",
   "execution_count": 21,
   "id": "2fb465c2",
   "metadata": {
    "execution": {
     "iopub.execute_input": "2025-02-15T09:19:52.813578Z",
     "iopub.status.busy": "2025-02-15T09:19:52.813180Z",
     "iopub.status.idle": "2025-02-15T09:19:54.730638Z",
     "shell.execute_reply": "2025-02-15T09:19:54.729573Z"
    },
    "papermill": {
     "duration": 1.930416,
     "end_time": "2025-02-15T09:19:54.732268",
     "exception": false,
     "start_time": "2025-02-15T09:19:52.801852",
     "status": "completed"
    },
    "tags": []
   },
   "outputs": [
    {
     "name": "stdout",
     "output_type": "stream",
     "text": [
      "Stacking Model MAE: 0.17079276876260707\n",
      "Stacking Model MSE: 0.18126808424738056\n",
      "Stacking Model RMSE: 0.42575589748984166\n",
      "Stacking Model R²: 0.9792566815579375\n",
      "Mean Absolute Percentage Error (MAPE): 12.391623727434869\n"
     ]
    }
   ],
   "source": [
    "from sklearn.ensemble import StackingRegressor\n",
    "from sklearn.linear_model import Ridge, LinearRegression\n",
    "from sklearn.ensemble import RandomForestRegressor, GradientBoostingRegressor\n",
    "\n",
    "# Define base models\n",
    "base_models = [\n",
    "    ('ridge', Ridge(alpha=1.0)),\n",
    "    ('rf', RandomForestRegressor(n_estimators=100, random_state=42)),\n",
    "    ('gb', GradientBoostingRegressor(n_estimators=100, random_state=42))\n",
    "]\n",
    "\n",
    "# Define the meta-model\n",
    "meta_model = LinearRegression()\n",
    "\n",
    "# Create the stacking model\n",
    "stacking_model = StackingRegressor(estimators=base_models, final_estimator=meta_model)\n",
    "\n",
    "# Train the stacking model\n",
    "stacking_model.fit(X_train, y_train)\n",
    "\n",
    "# Predictions\n",
    "y_pred = stacking_model.predict(X_test)\n",
    "\n",
    "# Regression metrics\n",
    "mae = mean_absolute_error(y_test, y_pred)\n",
    "mse = mean_squared_error(y_test, y_pred)\n",
    "r2 = r2_score(y_test, y_pred)\n",
    "\n",
    "# Root Mean Squared Error (RMSE)\n",
    "rmse = np.sqrt(mse)\n",
    "\n",
    "# Print the results\n",
    "print('Stacking Model MAE:', mae)\n",
    "print('Stacking Model MSE:', mse)\n",
    "print('Stacking Model RMSE:', rmse)\n",
    "print('Stacking Model R²:', r2)\n",
    "\n",
    "# Calculate Mean Absolute Percentage Error (MAPE)\n",
    "mape = np.mean(np.abs((y_test - y_pred) / y_test)) * 100\n",
    "\n",
    "# Print the MAPE value\n",
    "print(\"Mean Absolute Percentage Error (MAPE):\", mape)"
   ]
  },
  {
   "cell_type": "markdown",
   "id": "6f144027",
   "metadata": {
    "papermill": {
     "duration": 0.010388,
     "end_time": "2025-02-15T09:19:54.753765",
     "exception": false,
     "start_time": "2025-02-15T09:19:54.743377",
     "status": "completed"
    },
    "tags": []
   },
   "source": [
    "# HyperTuned Models"
   ]
  },
  {
   "cell_type": "code",
   "execution_count": 22,
   "id": "8ccefd38",
   "metadata": {
    "execution": {
     "iopub.execute_input": "2025-02-15T09:19:54.776865Z",
     "iopub.status.busy": "2025-02-15T09:19:54.776458Z",
     "iopub.status.idle": "2025-02-15T09:20:47.474963Z",
     "shell.execute_reply": "2025-02-15T09:20:47.473669Z"
    },
    "papermill": {
     "duration": 52.71218,
     "end_time": "2025-02-15T09:20:47.476809",
     "exception": false,
     "start_time": "2025-02-15T09:19:54.764629",
     "status": "completed"
    },
    "tags": []
   },
   "outputs": [
    {
     "name": "stdout",
     "output_type": "stream",
     "text": [
      "Fitting 3 folds for each of 100 candidates, totalling 300 fits\n",
      "Random Forest MAE: 0.06936465323917401\n",
      "Random Forest MSE: 0.037493398834243616\n",
      "Random Forest R²: 0.9957094625083995\n",
      "Mean Absolute Percentage Error (MAPE): 2.6113685611485353\n",
      "Cross-validation scores: [0.98097259 0.98569671 0.97222584 0.94877505 0.95235646]\n",
      "Average cross-validation score: 0.9680053292301514\n"
     ]
    }
   ],
   "source": [
    "import joblib\n",
    "import numpy as np\n",
    "import pandas as pd\n",
    "from sklearn.ensemble import RandomForestRegressor\n",
    "from sklearn.model_selection import train_test_split, RandomizedSearchCV\n",
    "from sklearn.metrics import mean_absolute_error, mean_squared_error, r2_score\n",
    "from sklearn.model_selection import cross_val_score\n",
    "from sklearn.preprocessing import StandardScaler\n",
    "\n",
    "# Random Forest Model with Hyperparameter Tuning using RandomizedSearchCV\n",
    "rf_model = RandomForestRegressor(random_state=42)\n",
    "\n",
    "# Define the parameter grid to search through\n",
    "param_grid = {\n",
    "    'n_estimators': [50, 100, 200, 500],\n",
    "    'max_depth': [None, 10, 20, 30],\n",
    "    'min_samples_split': [2, 5, 10],\n",
    "    'min_samples_leaf': [1, 2, 4],\n",
    "    'max_features': ['auto', 'sqrt', 'log2']\n",
    "}\n",
    "\n",
    "# RandomizedSearchCV for hyperparameter tuning\n",
    "random_search = RandomizedSearchCV(estimator=rf_model, param_distributions=param_grid, \n",
    "                                   n_iter=100, cv=3, verbose=2, random_state=42, n_jobs=-1)\n",
    "random_search.fit(X_train, y_train)\n",
    "\n",
    "# Best parameters from RandomizedSearchCV\n",
    "best_rf_model = random_search.best_estimator_\n",
    "\n",
    "# Make predictions on the test set\n",
    "y_pred = best_rf_model.predict(X_test)\n",
    "\n",
    "# Regression metrics\n",
    "mae = mean_absolute_error(y_test, y_pred)\n",
    "mse = mean_squared_error(y_test, y_pred)\n",
    "r2 = r2_score(y_test, y_pred)\n",
    "\n",
    "# Calculate Mean Absolute Percentage Error (MAPE)\n",
    "mape = np.mean(np.abs((y_test - y_pred) / y_test)) * 100\n",
    "\n",
    "# Print the results\n",
    "print(\"Random Forest MAE:\", mae)\n",
    "print(\"Random Forest MSE:\", mse)\n",
    "print(\"Random Forest R²:\", r2)\n",
    "print(\"Mean Absolute Percentage Error (MAPE):\", mape)\n",
    "\n",
    "# Cross-validation to check the generalization of the model\n",
    "cv_scores = cross_val_score(best_rf_model, X_train, y_train, cv=5)\n",
    "print(\"Cross-validation scores:\", cv_scores)\n",
    "print(\"Average cross-validation score:\", np.mean(cv_scores))\n"
   ]
  },
  {
   "cell_type": "code",
   "execution_count": 23,
   "id": "c4088f4a",
   "metadata": {
    "execution": {
     "iopub.execute_input": "2025-02-15T09:20:47.500899Z",
     "iopub.status.busy": "2025-02-15T09:20:47.500528Z",
     "iopub.status.idle": "2025-02-15T09:20:48.089370Z",
     "shell.execute_reply": "2025-02-15T09:20:48.087870Z"
    },
    "papermill": {
     "duration": 0.603231,
     "end_time": "2025-02-15T09:20:48.091317",
     "exception": false,
     "start_time": "2025-02-15T09:20:47.488086",
     "status": "completed"
    },
    "tags": []
   },
   "outputs": [
    {
     "name": "stdout",
     "output_type": "stream",
     "text": [
      "Fitting 3 folds for each of 100 candidates, totalling 300 fits\n",
      "Decision Tree MAE: 0.14526207350050105\n",
      "Decision Tree MSE: 0.24998220983481703\n",
      "Decision Tree R²: 0.9713934165245693\n",
      "Mean Absolute Percentage Error (MAPE): 3.4045727388032363\n",
      "Cross-validation scores: [0.96723594 0.98306336 0.98452493 0.87751325 0.88991163]\n",
      "Average cross-validation score: 0.9404498239217138\n"
     ]
    }
   ],
   "source": [
    "from sklearn.tree import DecisionTreeRegressor\n",
    "from sklearn.model_selection import train_test_split, RandomizedSearchCV\n",
    "\n",
    "\n",
    "# Decision Tree Model with Hyperparameter Tuning using RandomizedSearchCV\n",
    "dt_model = DecisionTreeRegressor(random_state=42)\n",
    "\n",
    "# Define the parameter grid to search through\n",
    "param_grid = {\n",
    "    'max_depth': [None, 10, 20, 30, 40],\n",
    "    'min_samples_split': [2, 5, 10],\n",
    "    'min_samples_leaf': [1, 2, 4],\n",
    "    'max_features': ['auto', 'sqrt', 'log2']\n",
    "}\n",
    "\n",
    "# RandomizedSearchCV for hyperparameter tuning\n",
    "random_search = RandomizedSearchCV(estimator=dt_model, param_distributions=param_grid, \n",
    "                                   n_iter=100, cv=3, verbose=2, random_state=42, n_jobs=-1)\n",
    "random_search.fit(X_train, y_train)\n",
    "\n",
    "# Best parameters from RandomizedSearchCV\n",
    "best_dt_model = random_search.best_estimator_\n",
    "\n",
    "# Make predictions on the test set\n",
    "y_pred = best_dt_model.predict(X_test)\n",
    "\n",
    "# Regression metrics\n",
    "mae = mean_absolute_error(y_test, y_pred)\n",
    "mse = mean_squared_error(y_test, y_pred)\n",
    "r2 = r2_score(y_test, y_pred)\n",
    "\n",
    "# Calculate Mean Absolute Percentage Error (MAPE)\n",
    "mape = np.mean(np.abs((y_test - y_pred) / y_test)) * 100\n",
    "\n",
    "# Print the results\n",
    "print(\"Decision Tree MAE:\", mae)\n",
    "print(\"Decision Tree MSE:\", mse)\n",
    "print(\"Decision Tree R²:\", r2)\n",
    "print(\"Mean Absolute Percentage Error (MAPE):\", mape)\n",
    "\n",
    "# Cross-validation to check the generalization of the model\n",
    "cv_scores = cross_val_score(best_dt_model, X_train, y_train, cv=5)\n",
    "print(\"Cross-validation scores:\", cv_scores)\n",
    "print(\"Average cross-validation score:\", np.mean(cv_scores))\n"
   ]
  },
  {
   "cell_type": "code",
   "execution_count": 24,
   "id": "068736a3",
   "metadata": {
    "execution": {
     "iopub.execute_input": "2025-02-15T09:20:48.131681Z",
     "iopub.status.busy": "2025-02-15T09:20:48.131308Z",
     "iopub.status.idle": "2025-02-15T09:21:20.086829Z",
     "shell.execute_reply": "2025-02-15T09:21:20.085660Z"
    },
    "papermill": {
     "duration": 31.988839,
     "end_time": "2025-02-15T09:21:20.099509",
     "exception": false,
     "start_time": "2025-02-15T09:20:48.110670",
     "status": "completed"
    },
    "tags": []
   },
   "outputs": [
    {
     "name": "stdout",
     "output_type": "stream",
     "text": [
      "Stacking Model MAE: 0.12991089835848596\n",
      "Stacking Model MSE: 0.08799774635653347\n",
      "Stacking Model RMSE: 0.29664414094421865\n",
      "Stacking Model R²: 0.9899300239066559\n",
      "Mean Absolute Percentage Error (MAPE): 9.79154592923741\n",
      "Cross-validation scores: [0.97035638 0.9748358  0.94690323 0.92897541 0.9348472 ]\n",
      "Average cross-validation score: 0.9511836048197171\n"
     ]
    }
   ],
   "source": [
    "import numpy as np\n",
    "import pandas as pd\n",
    "from sklearn.model_selection import train_test_split, RandomizedSearchCV, cross_val_score\n",
    "from sklearn.ensemble import StackingRegressor, RandomForestRegressor, GradientBoostingRegressor\n",
    "from sklearn.linear_model import Ridge, LinearRegression\n",
    "from sklearn.metrics import mean_absolute_error, mean_squared_error, r2_score\n",
    "from sklearn.preprocessing import StandardScaler\n",
    "from scipy.stats import randint\n",
    "\n",
    "# Define base models with hyperparameter tuning\n",
    "base_models = [\n",
    "    ('ridge', Ridge(alpha=1.0)),\n",
    "    ('rf', RandomForestRegressor(random_state=42)),\n",
    "    ('gb', GradientBoostingRegressor(random_state=42))\n",
    "]\n",
    "\n",
    "# Hyperparameter tuning for Random Forest using RandomizedSearchCV\n",
    "rf_param_grid = {\n",
    "    'n_estimators': randint(50, 200),\n",
    "    'max_depth': [None, 10, 20, 30, 40],\n",
    "    'min_samples_split': randint(2, 10),\n",
    "    'min_samples_leaf': randint(1, 5),\n",
    "    'max_features': ['auto', 'sqrt', 'log2']\n",
    "}\n",
    "\n",
    "rf_search = RandomizedSearchCV(RandomForestRegressor(random_state=42), param_distributions=rf_param_grid, \n",
    "                               n_iter=50, cv=3, n_jobs=-1, random_state=42)\n",
    "rf_search.fit(X_train, y_train)\n",
    "best_rf = rf_search.best_estimator_\n",
    "\n",
    "# Hyperparameter tuning for Gradient Boosting using RandomizedSearchCV\n",
    "gb_param_grid = {\n",
    "    'n_estimators': randint(50, 200),\n",
    "    'learning_rate': [0.01, 0.05, 0.1],\n",
    "    'max_depth': [3, 5, 7],\n",
    "    'min_samples_split': randint(2, 10),\n",
    "    'min_samples_leaf': randint(1, 5),\n",
    "    'subsample': [0.8, 0.9, 1.0]\n",
    "}\n",
    "\n",
    "gb_search = RandomizedSearchCV(GradientBoostingRegressor(random_state=42), param_distributions=gb_param_grid, \n",
    "                               n_iter=50, cv=3, n_jobs=-1, random_state=42)\n",
    "gb_search.fit(X_train, y_train)\n",
    "best_gb = gb_search.best_estimator_\n",
    "\n",
    "# Define the meta-model (you can use Ridge regression for better regularization)\n",
    "meta_model = Ridge(alpha=1.0)\n",
    "\n",
    "# Create the stacking model\n",
    "stacking_model = StackingRegressor(estimators=[('ridge', Ridge(alpha=1.0)), \n",
    "                                              ('rf', best_rf), \n",
    "                                              ('gb', best_gb)], \n",
    "                                   final_estimator=meta_model)\n",
    "\n",
    "# Train the stacking model\n",
    "stacking_model.fit(X_train, y_train)\n",
    "\n",
    "# Predictions\n",
    "y_pred = stacking_model.predict(X_test)\n",
    "\n",
    "# Regression metrics\n",
    "mae = mean_absolute_error(y_test, y_pred)\n",
    "mse = mean_squared_error(y_test, y_pred)\n",
    "r2 = r2_score(y_test, y_pred)\n",
    "\n",
    "# Root Mean Squared Error (RMSE)\n",
    "rmse = np.sqrt(mse)\n",
    "\n",
    "# Print the results\n",
    "print('Stacking Model MAE:', mae)\n",
    "print('Stacking Model MSE:', mse)\n",
    "print('Stacking Model RMSE:', rmse)\n",
    "print('Stacking Model R²:', r2)\n",
    "\n",
    "# Calculate Mean Absolute Percentage Error (MAPE)\n",
    "mape = np.mean(np.abs((y_test - y_pred) / y_test)) * 100\n",
    "print(\"Mean Absolute Percentage Error (MAPE):\", mape)\n",
    "\n",
    "# Cross-validation to check the generalization of the model\n",
    "cv_scores = cross_val_score(stacking_model, X_train, y_train, cv=5)\n",
    "print(\"Cross-validation scores:\", cv_scores)\n",
    "print(\"Average cross-validation score:\", np.mean(cv_scores))\n"
   ]
  }
 ],
 "metadata": {
  "kaggle": {
   "accelerator": "none",
   "dataSources": [
    {
     "datasetId": 1357368,
     "sourceId": 2255808,
     "sourceType": "datasetVersion"
    }
   ],
   "dockerImageVersionId": 30886,
   "isGpuEnabled": false,
   "isInternetEnabled": true,
   "language": "python",
   "sourceType": "notebook"
  },
  "kernelspec": {
   "display_name": "Python 3",
   "language": "python",
   "name": "python3"
  },
  "language_info": {
   "codemirror_mode": {
    "name": "ipython",
    "version": 3
   },
   "file_extension": ".py",
   "mimetype": "text/x-python",
   "name": "python",
   "nbconvert_exporter": "python",
   "pygments_lexer": "ipython3",
   "version": "3.10.12"
  },
  "papermill": {
   "default_parameters": {},
   "duration": 97.958414,
   "end_time": "2025-02-15T09:21:20.931729",
   "environment_variables": {},
   "exception": null,
   "input_path": "__notebook__.ipynb",
   "output_path": "__notebook__.ipynb",
   "parameters": {},
   "start_time": "2025-02-15T09:19:42.973315",
   "version": "2.6.0"
  }
 },
 "nbformat": 4,
 "nbformat_minor": 5
}
